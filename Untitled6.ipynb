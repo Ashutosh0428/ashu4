{
 "cells": [
  {
   "cell_type": "code",
   "execution_count": 1,
   "id": "fe9810a0",
   "metadata": {},
   "outputs": [
    {
     "name": "stdout",
     "output_type": "stream",
     "text": [
      "Please enter the speed of car in Kilometre: 10\n",
      "The speed value of car in Miles:  6.21371\n"
     ]
    }
   ],
   "source": [
    "#ASSINGMENT2 \n",
    "\n",
    "#1.\n",
    "\n",
    "km = int(input (\"Please enter the speed of car in Kilometre: \"))  \n",
    "conv = 0.621371  \n",
    "mile = km * conv  \n",
    "print (\"The speed value of car in Miles: \", mile)  "
   ]
  },
  {
   "cell_type": "code",
   "execution_count": 2,
   "id": "d8fb7ae0",
   "metadata": {},
   "outputs": [
    {
     "name": "stdout",
     "output_type": "stream",
     "text": [
      "enter the temp. in celsius:36.5\n",
      "36.5 degree Celsius is equal to 97.7 degree Fahrenheit\n"
     ]
    }
   ],
   "source": [
    "#2.\n",
    "\n",
    "celsius = float(input(\"enter the temp. in celsius:\"))\n",
    "fahrenheit = (celsius * 1.8) + 32\n",
    "print(\"%0.1f degree Celsius is equal to %0.1f degree Fahrenheit\" %(celsius,fahrenheit))\n"
   ]
  },
  {
   "cell_type": "code",
   "execution_count": 4,
   "id": "7b560e1a",
   "metadata": {},
   "outputs": [
    {
     "name": "stdout",
     "output_type": "stream",
     "text": [
      "Enter year: 2021\n",
      "Enter month: 12\n",
      "   December 2021\n",
      "Mo Tu We Th Fr Sa Su\n",
      "       1  2  3  4  5\n",
      " 6  7  8  9 10 11 12\n",
      "13 14 15 16 17 18 19\n",
      "20 21 22 23 24 25 26\n",
      "27 28 29 30 31\n",
      "\n"
     ]
    }
   ],
   "source": [
    "#3.\n",
    "\n",
    "import calendar\n",
    "\n",
    "y = int(input(\"Enter year: \"))\n",
    "m = int(input(\"Enter month: \"))\n",
    "print(calendar.month(y, m))"
   ]
  },
  {
   "cell_type": "code",
   "execution_count": 7,
   "id": "47d8dfb3",
   "metadata": {},
   "outputs": [
    {
     "name": "stdout",
     "output_type": "stream",
     "text": [
      "Enter the value of a: 11\n",
      "Enter the value of b: 5\n",
      "Enter the value of c: 2\n",
      "Two distinct complex roots are -0.23+0.36 and -0.23-0.36\n"
     ]
    }
   ],
   "source": [
    "#4.\n",
    "\n",
    "\n",
    "import math  \n",
    "a = int(input('Enter the value of a: '))\n",
    "b = int(input('Enter the value of b: '))\n",
    "c = int(input('Enter the value of c: '))\n",
    "d = (b**2) - (4*a*c)\n",
    "\n",
    "if(d > 0):\n",
    "    root1 = (-b + math.sqrt(d) / (2 * a))\n",
    "    root2 = (-b - math.sqrt(d) / (2 * a))\n",
    "    print(\"Two distinct real roots are %.2f and %.2f\" %(root1, root2))\n",
    "\n",
    "elif(d == 0):\n",
    "    root1 = root2 = -b / (2 * a)\n",
    "    print(\"Two equal and real roots are %.2f and %.2f\" %(root1, root2))\n",
    "\n",
    "elif(d < 0):\n",
    "    root1 = root2 = -b / (2 * a)\n",
    "    imaginary = math.sqrt(-d) / (2 * a)\n",
    "    print(\"Two distinct complex roots are %.2f+%.2f and %.2f-%.2f\" \n",
    "                          %(root1, imaginary, root2, imaginary))"
   ]
  },
  {
   "cell_type": "code",
   "execution_count": 9,
   "id": "8626db3c",
   "metadata": {},
   "outputs": [
    {
     "name": "stdout",
     "output_type": "stream",
     "text": [
      "Before swapping: \n",
      "Value of x :  5  and y :  7\n",
      "After swapping: \n",
      "Value of x :  7  and y :  5\n"
     ]
    }
   ],
   "source": [
    "#5.\n",
    "\n",
    "\n",
    "\n",
    "x = 5\n",
    "y = 7\n",
    " \n",
    "print (\"Before swapping: \")\n",
    "print(\"Value of x : \", x, \" and y : \", y)\n",
    "x, y = y, x\n",
    "print (\"After swapping: \")\n",
    "print(\"Value of x : \", x, \" and y : \", y)"
   ]
  },
  {
   "cell_type": "code",
   "execution_count": null,
   "id": "231ca5c1",
   "metadata": {},
   "outputs": [],
   "source": []
  }
 ],
 "metadata": {
  "kernelspec": {
   "display_name": "Python 3 (ipykernel)",
   "language": "python",
   "name": "python3"
  },
  "language_info": {
   "codemirror_mode": {
    "name": "ipython",
    "version": 3
   },
   "file_extension": ".py",
   "mimetype": "text/x-python",
   "name": "python",
   "nbconvert_exporter": "python",
   "pygments_lexer": "ipython3",
   "version": "3.9.7"
  }
 },
 "nbformat": 4,
 "nbformat_minor": 5
}
